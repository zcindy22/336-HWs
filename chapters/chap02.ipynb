{
  "cells": [
    {
      "cell_type": "markdown",
      "id": "1331faa1",
      "metadata": {
        "id": "1331faa1"
      },
      "source": [
        "You can order print and ebook versions of *Think Python 3e* from\n",
        "[Bookshop.org](https://bookshop.org/a/98697/9781098155438) and\n",
        "[Amazon](https://www.amazon.com/_/dp/1098155432?smid=ATVPDKIKX0DER&_encoding=UTF8&tag=oreilly20-20&_encoding=UTF8&tag=greenteapre01-20&linkCode=ur2&linkId=e2a529f94920295d27ec8a06e757dc7c&camp=1789&creative=9325)."
      ]
    },
    {
      "cell_type": "code",
      "execution_count": 49,
      "id": "1a0a6ff4",
      "metadata": {
        "tags": [],
        "id": "1a0a6ff4"
      },
      "outputs": [],
      "source": [
        "from os.path import basename, exists\n",
        "\n",
        "def download(url):\n",
        "    filename = basename(url)\n",
        "    if not exists(filename):\n",
        "        from urllib.request import urlretrieve\n",
        "\n",
        "        local, _ = urlretrieve(url, filename)\n",
        "        print(\"Downloaded \" + str(local))\n",
        "    return filename\n",
        "\n",
        "download('https://github.com/AllenDowney/ThinkPython/raw/v3/thinkpython.py');\n",
        "download('https://github.com/AllenDowney/ThinkPython/raw/v3/diagram.py');\n",
        "\n",
        "import thinkpython"
      ]
    },
    {
      "cell_type": "markdown",
      "id": "d0286422",
      "metadata": {
        "id": "d0286422"
      },
      "source": [
        "# Variables and Statements\n",
        "\n",
        "In the previous chapter, we used operators to write expressions that perform arithmetic computations.\n",
        "\n",
        "In this chapter, you'll learn about variables and statements, the `import` statement, and the `print` function.\n",
        "And I'll introduce more of the vocabulary we use to talk about programs, including \"argument\" and \"module\".\n"
      ]
    },
    {
      "cell_type": "markdown",
      "id": "4ac44f0c",
      "metadata": {
        "id": "4ac44f0c"
      },
      "source": [
        "## Variables\n",
        "\n",
        "A **variable** is a name that refers to a value.\n",
        "To create a variable, we can write a **assignment statement** like this."
      ]
    },
    {
      "cell_type": "code",
      "execution_count": 50,
      "id": "59f6db42",
      "metadata": {
        "id": "59f6db42"
      },
      "outputs": [],
      "source": [
        "n = 17"
      ]
    },
    {
      "cell_type": "markdown",
      "id": "52f187f1",
      "metadata": {
        "id": "52f187f1"
      },
      "source": [
        "An assignment statement has three parts: the name of the variable on the left, the equals operator, `=`, and an expression on the right.\n",
        "In this example, the expression is an integer.\n",
        "In the following example, the expression is a floating-point number."
      ]
    },
    {
      "cell_type": "code",
      "execution_count": 51,
      "id": "1301f6af",
      "metadata": {
        "id": "1301f6af"
      },
      "outputs": [],
      "source": [
        "pi = 3.141592653589793"
      ]
    },
    {
      "cell_type": "markdown",
      "id": "3e27e65c",
      "metadata": {
        "id": "3e27e65c"
      },
      "source": [
        "And in the following example, the expression is a string."
      ]
    },
    {
      "cell_type": "code",
      "execution_count": 52,
      "id": "f7adb732",
      "metadata": {
        "id": "f7adb732"
      },
      "outputs": [],
      "source": [
        "message = 'And now for something completely different'"
      ]
    },
    {
      "cell_type": "markdown",
      "id": "cb5916ea",
      "metadata": {
        "id": "cb5916ea"
      },
      "source": [
        "When you run an assignment statement, there is no output.\n",
        "Python creates the variable and gives it a value, but the assignment statement has no visible effect.\n",
        "However, after creating a variable, you can use it as an expression.\n",
        "So we can display the value of `message` like this:"
      ]
    },
    {
      "cell_type": "code",
      "execution_count": 53,
      "id": "6bcc0a66",
      "metadata": {
        "id": "6bcc0a66",
        "outputId": "cfd3637a-0c1b-4277-c8a9-001283619de2",
        "colab": {
          "base_uri": "https://localhost:8080/",
          "height": 35
        }
      },
      "outputs": [
        {
          "output_type": "execute_result",
          "data": {
            "text/plain": [
              "'And now for something completely different'"
            ],
            "application/vnd.google.colaboratory.intrinsic+json": {
              "type": "string"
            }
          },
          "metadata": {},
          "execution_count": 53
        }
      ],
      "source": [
        "message"
      ]
    },
    {
      "cell_type": "markdown",
      "id": "e3fd81de",
      "metadata": {
        "id": "e3fd81de"
      },
      "source": [
        "You can also use a variable as part of an expression with arithmetic operators."
      ]
    },
    {
      "cell_type": "code",
      "execution_count": 54,
      "id": "3f11f497",
      "metadata": {
        "id": "3f11f497",
        "outputId": "a63bb004-a928-45a6-dae5-7cc9fe9a1586",
        "colab": {
          "base_uri": "https://localhost:8080/"
        }
      },
      "outputs": [
        {
          "output_type": "execute_result",
          "data": {
            "text/plain": [
              "42"
            ]
          },
          "metadata": {},
          "execution_count": 54
        }
      ],
      "source": [
        "n + 25"
      ]
    },
    {
      "cell_type": "code",
      "execution_count": 55,
      "id": "6b2dafea",
      "metadata": {
        "id": "6b2dafea",
        "outputId": "ba0112f1-4d82-4d5b-b30e-e1a7ceef5951",
        "colab": {
          "base_uri": "https://localhost:8080/"
        }
      },
      "outputs": [
        {
          "output_type": "execute_result",
          "data": {
            "text/plain": [
              "6.283185307179586"
            ]
          },
          "metadata": {},
          "execution_count": 55
        }
      ],
      "source": [
        "2 * pi"
      ]
    },
    {
      "cell_type": "markdown",
      "id": "97396e7d",
      "metadata": {
        "id": "97396e7d"
      },
      "source": [
        "And you can use a variable when you call a function."
      ]
    },
    {
      "cell_type": "code",
      "execution_count": 56,
      "id": "72c45ac5",
      "metadata": {
        "id": "72c45ac5",
        "outputId": "b2e4ad28-dc6d-4298-f30c-c52797a85403",
        "colab": {
          "base_uri": "https://localhost:8080/"
        }
      },
      "outputs": [
        {
          "output_type": "execute_result",
          "data": {
            "text/plain": [
              "3"
            ]
          },
          "metadata": {},
          "execution_count": 56
        }
      ],
      "source": [
        "round(pi)"
      ]
    },
    {
      "cell_type": "code",
      "execution_count": 57,
      "id": "6bf81c52",
      "metadata": {
        "id": "6bf81c52",
        "outputId": "e7f5ecf6-1da5-443d-c039-27c894682699",
        "colab": {
          "base_uri": "https://localhost:8080/"
        }
      },
      "outputs": [
        {
          "output_type": "execute_result",
          "data": {
            "text/plain": [
              "42"
            ]
          },
          "metadata": {},
          "execution_count": 57
        }
      ],
      "source": [
        "len(message)"
      ]
    },
    {
      "cell_type": "markdown",
      "id": "397d9da3",
      "metadata": {
        "id": "397d9da3"
      },
      "source": [
        "## State diagrams\n",
        "\n",
        "A common way to represent variables on paper is to write the name with\n",
        "an arrow pointing to its value."
      ]
    },
    {
      "cell_type": "code",
      "execution_count": 58,
      "id": "2c25e84e",
      "metadata": {
        "tags": [],
        "id": "2c25e84e"
      },
      "outputs": [],
      "source": [
        "import math\n",
        "\n",
        "from diagram import make_binding, Frame\n",
        "\n",
        "binding = make_binding(\"message\", 'And now for something completely different')\n",
        "binding2 = make_binding(\"n\", 17)\n",
        "binding3 = make_binding(\"pi\", 3.141592653589793)\n",
        "\n",
        "frame = Frame([binding2, binding3, binding])"
      ]
    },
    {
      "cell_type": "code",
      "execution_count": 59,
      "id": "5b27a635",
      "metadata": {
        "tags": [],
        "id": "5b27a635",
        "outputId": "05907954-369a-4b1a-e5ac-860ccd0355dd",
        "colab": {
          "base_uri": "https://localhost:8080/",
          "height": 138
        }
      },
      "outputs": [
        {
          "output_type": "display_data",
          "data": {
            "text/plain": [
              "<Figure size 362x101 with 1 Axes>"
            ],
            "image/png": "[encoded data removed]"
          },
          "metadata": {}
        }
      ],
      "source": [
        "from diagram import diagram, adjust\n",
        "\n",
        "\n",
        "width, height, x, y = [3.62, 1.01, 0.6, 0.76]\n",
        "ax = diagram(width, height)\n",
        "bbox = frame.draw(ax, x, y, dy=-0.25)\n",
        "# adjust(x, y, bbox)"
      ]
    },
    {
      "cell_type": "markdown",
      "id": "6f40da93",
      "metadata": {
        "id": "6f40da93"
      },
      "source": [
        "This kind of figure is called a **state diagram** because it shows what state each of the variables is in (think of it as the variable's state of mind).\n",
        "We'll use state diagrams throughout the book to represent a model of how Python stores variables and their values."
      ]
    },
    {
      "cell_type": "markdown",
      "id": "ba252c85",
      "metadata": {
        "id": "ba252c85"
      },
      "source": [
        "## Variable names\n",
        "\n",
        "Variable names can be as long as you like. They can contain both letters and numbers, but they can't begin with a number.\n",
        "It is legal to use uppercase letters, but it is conventional to use only lower case for\n",
        "variable names.\n",
        "\n",
        "The only punctuation that can appear in a variable name is the underscore character, `_`. It is often used in names with multiple words, such as `your_name` or  `airspeed_of_unladen_swallow`.\n",
        "\n",
        "If you give a variable an illegal name, you get a syntax error.\n",
        "The name `million!` is illegal because it contains punctuation."
      ]
    },
    {
      "cell_type": "code",
      "execution_count": 60,
      "id": "ac2620ef",
      "metadata": {
        "tags": [],
        "id": "ac2620ef",
        "outputId": "c5205999-0598-47a6-c33d-348a9b5d3cf4",
        "colab": {
          "base_uri": "https://localhost:8080/",
          "height": 108
        }
      },
      "outputs": [
        {
          "output_type": "error",
          "ename": "SyntaxError",
          "evalue": "invalid syntax (ipython-input-4061783710.py, line 1)",
          "traceback": [
            "\u001b[0;36m  File \u001b[0;32m\"/tmp/ipython-input-4061783710.py\"\u001b[0;36m, line \u001b[0;32m1\u001b[0m\n\u001b[0;31m    million! = 1000000\u001b[0m\n\u001b[0m           ^\u001b[0m\n\u001b[0;31mSyntaxError\u001b[0m\u001b[0;31m:\u001b[0m invalid syntax\n"
          ]
        }
      ],
      "source": [
        "%%expect SyntaxError\n",
        "\n",
        "million! = 1000000"
      ]
    },
    {
      "cell_type": "markdown",
      "id": "a1cefe3e",
      "metadata": {
        "id": "a1cefe3e"
      },
      "source": [
        "`76trombones` is illegal because it starts with a number."
      ]
    },
    {
      "cell_type": "code",
      "execution_count": 61,
      "id": "1a8b8382",
      "metadata": {
        "tags": [],
        "id": "1a8b8382",
        "outputId": "7eb335f7-1b3a-4d93-a5e0-13dc0db46c15",
        "colab": {
          "base_uri": "https://localhost:8080/",
          "height": 108
        }
      },
      "outputs": [
        {
          "output_type": "error",
          "ename": "SyntaxError",
          "evalue": "invalid decimal literal (ipython-input-3636686625.py, line 1)",
          "traceback": [
            "\u001b[0;36m  File \u001b[0;32m\"/tmp/ipython-input-3636686625.py\"\u001b[0;36m, line \u001b[0;32m1\u001b[0m\n\u001b[0;31m    76trombones = 'big parade'\u001b[0m\n\u001b[0m     ^\u001b[0m\n\u001b[0;31mSyntaxError\u001b[0m\u001b[0;31m:\u001b[0m invalid decimal literal\n"
          ]
        }
      ],
      "source": [
        "%%expect SyntaxError\n",
        "\n",
        "76trombones = 'big parade'"
      ]
    },
    {
      "cell_type": "markdown",
      "id": "94aa7e60",
      "metadata": {
        "id": "94aa7e60"
      },
      "source": [
        "`class` is also illegal, but it might not be obvious why."
      ]
    },
    {
      "cell_type": "code",
      "execution_count": 62,
      "id": "b6938851",
      "metadata": {
        "tags": [],
        "id": "b6938851",
        "outputId": "a2c84143-bcd4-4491-b720-7438e845282c",
        "colab": {
          "base_uri": "https://localhost:8080/",
          "height": 108
        }
      },
      "outputs": [
        {
          "output_type": "error",
          "ename": "SyntaxError",
          "evalue": "invalid syntax (ipython-input-3285659805.py, line 1)",
          "traceback": [
            "\u001b[0;36m  File \u001b[0;32m\"/tmp/ipython-input-3285659805.py\"\u001b[0;36m, line \u001b[0;32m1\u001b[0m\n\u001b[0;31m    class = 'Self-Defence Against Fresh Fruit'\u001b[0m\n\u001b[0m          ^\u001b[0m\n\u001b[0;31mSyntaxError\u001b[0m\u001b[0;31m:\u001b[0m invalid syntax\n"
          ]
        }
      ],
      "source": [
        "%%expect SyntaxError\n",
        "\n",
        "class = 'Self-Defence Against Fresh Fruit'"
      ]
    },
    {
      "cell_type": "markdown",
      "id": "784cfb5c",
      "metadata": {
        "id": "784cfb5c"
      },
      "source": [
        "It turns out that `class` is a **keyword**, which is a special word used to specify the structure of a program.\n",
        "Keywords can't be used as variable names.\n",
        "\n",
        "Here's a complete list of Python's keywords:"
      ]
    },
    {
      "cell_type": "markdown",
      "id": "127c07e8",
      "metadata": {
        "id": "127c07e8"
      },
      "source": [
        "```\n",
        "False      await      else       import     pass\n",
        "None       break      except     in         raise\n",
        "True       class      finally    is         return\n",
        "and        continue   for        lambda     try\n",
        "as         def        from       nonlocal   while\n",
        "assert     del        global     not        with\n",
        "async      elif       if         or         yield\n",
        "```"
      ]
    },
    {
      "cell_type": "code",
      "execution_count": 63,
      "id": "4a8f4b3e",
      "metadata": {
        "tags": [],
        "id": "4a8f4b3e",
        "outputId": "c506e988-1a1b-49d2-f1fe-622d8b6d3e0e",
        "colab": {
          "base_uri": "https://localhost:8080/"
        }
      },
      "outputs": [
        {
          "output_type": "execute_result",
          "data": {
            "text/plain": [
              "35"
            ]
          },
          "metadata": {},
          "execution_count": 63
        }
      ],
      "source": [
        "from keyword import kwlist\n",
        "\n",
        "len(kwlist)"
      ]
    },
    {
      "cell_type": "markdown",
      "id": "6f14d301",
      "metadata": {
        "id": "6f14d301"
      },
      "source": [
        "You don't have to memorize this list. In most development environments,\n",
        "keywords are displayed in a different color; if you try to use one as a\n",
        "variable name, you'll know."
      ]
    },
    {
      "cell_type": "markdown",
      "id": "c954a3b0",
      "metadata": {
        "id": "c954a3b0"
      },
      "source": [
        "## The import statement\n",
        "\n",
        "In order to use some Python features, you have to **import** them.\n",
        "For example, the following statement imports the `math` module."
      ]
    },
    {
      "cell_type": "code",
      "execution_count": 64,
      "id": "98c268e9",
      "metadata": {
        "id": "98c268e9"
      },
      "outputs": [],
      "source": [
        "import math"
      ]
    },
    {
      "cell_type": "markdown",
      "id": "ea4f75ec",
      "metadata": {
        "id": "ea4f75ec"
      },
      "source": [
        "A **module** is a collection of variables and functions.\n",
        "The math module provides a variable called `pi` that contains the value of the mathematical constant denoted $\\pi$.\n",
        "We can display its value like this."
      ]
    },
    {
      "cell_type": "code",
      "execution_count": 65,
      "id": "47bc17c9",
      "metadata": {
        "id": "47bc17c9",
        "outputId": "e14f66e8-7abd-40ff-c8ce-5c99fe49978e",
        "colab": {
          "base_uri": "https://localhost:8080/"
        }
      },
      "outputs": [
        {
          "output_type": "execute_result",
          "data": {
            "text/plain": [
              "3.141592653589793"
            ]
          },
          "metadata": {},
          "execution_count": 65
        }
      ],
      "source": [
        "math.pi"
      ]
    },
    {
      "cell_type": "markdown",
      "id": "c96106e4",
      "metadata": {
        "id": "c96106e4"
      },
      "source": [
        "To use a variable in a module, you have to use the **dot operator** (`.`) between the name of the module and the name of the variable.\n",
        "\n",
        "The math module also contains functions.\n",
        "For example, `sqrt` computes square roots."
      ]
    },
    {
      "cell_type": "code",
      "execution_count": 66,
      "id": "fd1cec63",
      "metadata": {
        "id": "fd1cec63",
        "outputId": "c6318bbf-87bb-4eb8-dcb6-883ed65139ac",
        "colab": {
          "base_uri": "https://localhost:8080/"
        }
      },
      "outputs": [
        {
          "output_type": "execute_result",
          "data": {
            "text/plain": [
              "5.0"
            ]
          },
          "metadata": {},
          "execution_count": 66
        }
      ],
      "source": [
        "math.sqrt(25)"
      ]
    },
    {
      "cell_type": "markdown",
      "id": "185e94a3",
      "metadata": {
        "id": "185e94a3"
      },
      "source": [
        "And `pow` raises one number to the power of a second number."
      ]
    },
    {
      "cell_type": "code",
      "execution_count": 67,
      "id": "87316ddd",
      "metadata": {
        "id": "87316ddd",
        "outputId": "0718e7b4-5aee-4814-a951-907054253127",
        "colab": {
          "base_uri": "https://localhost:8080/"
        }
      },
      "outputs": [
        {
          "output_type": "execute_result",
          "data": {
            "text/plain": [
              "25.0"
            ]
          },
          "metadata": {},
          "execution_count": 67
        }
      ],
      "source": [
        "math.pow(5, 2)"
      ]
    },
    {
      "cell_type": "markdown",
      "id": "5df25a9a",
      "metadata": {
        "id": "5df25a9a"
      },
      "source": [
        "At this point we've seen two ways to raise a number to a power: we can use the `math.pow` function or the exponentiation operator, `**`.\n",
        "Either one is fine, but the operator is used more often than the function."
      ]
    },
    {
      "cell_type": "markdown",
      "id": "6538f22b",
      "metadata": {
        "id": "6538f22b"
      },
      "source": [
        "## Expressions and statements\n",
        "\n",
        "So far, we've seen a few kinds of expressions.\n",
        "An expression can be a single value, like an integer, floating-point number, or string.\n",
        "It can also be a collection of values and operators.\n",
        "And it can include variable names and function calls.\n",
        "Here's an expression that includes several of these elements."
      ]
    },
    {
      "cell_type": "code",
      "execution_count": 68,
      "id": "7f0b92df",
      "metadata": {
        "id": "7f0b92df",
        "outputId": "6342681e-a971-458f-c35a-47c9e997dedc",
        "colab": {
          "base_uri": "https://localhost:8080/"
        }
      },
      "outputs": [
        {
          "output_type": "execute_result",
          "data": {
            "text/plain": [
              "42"
            ]
          },
          "metadata": {},
          "execution_count": 68
        }
      ],
      "source": [
        "19 + n + round(math.pi) * 2"
      ]
    },
    {
      "cell_type": "markdown",
      "id": "000dd2ba",
      "metadata": {
        "id": "000dd2ba"
      },
      "source": [
        "We have also seen a few kind of statements.\n",
        "A **statement** is a unit of code that has an effect, but no value.\n",
        "For example, an assignment statement creates a variable and gives it a value, but the statement itself has no value."
      ]
    },
    {
      "cell_type": "code",
      "execution_count": 69,
      "id": "b882c340",
      "metadata": {
        "id": "b882c340"
      },
      "outputs": [],
      "source": [
        "n = 17"
      ]
    },
    {
      "cell_type": "markdown",
      "id": "cff0414b",
      "metadata": {
        "id": "cff0414b"
      },
      "source": [
        "Similarly, an import statement has an effect -- it imports a module so we can use the variables and functions it contains -- but it has no visible effect."
      ]
    },
    {
      "cell_type": "code",
      "execution_count": 70,
      "id": "299817d8",
      "metadata": {
        "id": "299817d8"
      },
      "outputs": [],
      "source": [
        "import math"
      ]
    },
    {
      "cell_type": "markdown",
      "id": "2aeb1000",
      "metadata": {
        "id": "2aeb1000"
      },
      "source": [
        "Computing the value of an expression is called **evaluation**.\n",
        "Running a statement is called **execution**."
      ]
    },
    {
      "cell_type": "markdown",
      "id": "f61601e4",
      "metadata": {
        "id": "f61601e4"
      },
      "source": [
        "## The print function\n",
        "\n",
        "When you evaluate an expression, the result is displayed."
      ]
    },
    {
      "cell_type": "code",
      "execution_count": 71,
      "id": "805977c6",
      "metadata": {
        "id": "805977c6",
        "outputId": "b1acc8cf-4509-4b24-f051-284eeddde467",
        "colab": {
          "base_uri": "https://localhost:8080/"
        }
      },
      "outputs": [
        {
          "output_type": "execute_result",
          "data": {
            "text/plain": [
              "18"
            ]
          },
          "metadata": {},
          "execution_count": 71
        }
      ],
      "source": [
        "n + 1"
      ]
    },
    {
      "cell_type": "markdown",
      "id": "efacf0fa",
      "metadata": {
        "id": "efacf0fa"
      },
      "source": [
        "But if you evaluate more than one expression, only the value of the last one is displayed."
      ]
    },
    {
      "cell_type": "code",
      "execution_count": 72,
      "id": "962e08ab",
      "metadata": {
        "id": "962e08ab",
        "outputId": "d610bb9f-2c53-4c07-fea6-493c5ffc7e37",
        "colab": {
          "base_uri": "https://localhost:8080/"
        }
      },
      "outputs": [
        {
          "output_type": "execute_result",
          "data": {
            "text/plain": [
              "20"
            ]
          },
          "metadata": {},
          "execution_count": 72
        }
      ],
      "source": [
        "n + 2\n",
        "n + 3"
      ]
    },
    {
      "cell_type": "markdown",
      "id": "cf2b991d",
      "metadata": {
        "id": "cf2b991d"
      },
      "source": [
        "To display more than one value, you can use the `print` function."
      ]
    },
    {
      "cell_type": "code",
      "execution_count": 73,
      "id": "a797e44d",
      "metadata": {
        "id": "a797e44d",
        "outputId": "9c250689-91a7-4ff8-ed5b-fa19d0caf79a",
        "colab": {
          "base_uri": "https://localhost:8080/"
        }
      },
      "outputs": [
        {
          "output_type": "stream",
          "name": "stdout",
          "text": [
            "19\n",
            "20\n"
          ]
        }
      ],
      "source": [
        "print(n+2)\n",
        "print(n+3)"
      ]
    },
    {
      "cell_type": "markdown",
      "id": "29af1f89",
      "metadata": {
        "id": "29af1f89"
      },
      "source": [
        "It also works with floating-point numbers and strings."
      ]
    },
    {
      "cell_type": "code",
      "execution_count": 74,
      "id": "73428520",
      "metadata": {
        "id": "73428520",
        "outputId": "46fb5a9b-70cb-4248-9aa7-ca13d37cb201",
        "colab": {
          "base_uri": "https://localhost:8080/"
        }
      },
      "outputs": [
        {
          "output_type": "stream",
          "name": "stdout",
          "text": [
            "The value of pi is approximately\n",
            "3.141592653589793\n"
          ]
        }
      ],
      "source": [
        "print('The value of pi is approximately')\n",
        "print(math.pi)"
      ]
    },
    {
      "cell_type": "markdown",
      "id": "8b4d7f4a",
      "metadata": {
        "id": "8b4d7f4a"
      },
      "source": [
        "You can also use a sequence of expressions separated by commas."
      ]
    },
    {
      "cell_type": "code",
      "execution_count": 75,
      "id": "9ad5bddd",
      "metadata": {
        "id": "9ad5bddd",
        "outputId": "041cbfa5-89b5-4e4d-f28d-24b9a186c1c0",
        "colab": {
          "base_uri": "https://localhost:8080/"
        }
      },
      "outputs": [
        {
          "output_type": "stream",
          "name": "stdout",
          "text": [
            "The value of pi is approximately 3.141592653589793\n"
          ]
        }
      ],
      "source": [
        "print('The value of pi is approximately', math.pi)"
      ]
    },
    {
      "cell_type": "markdown",
      "id": "af447ec4",
      "metadata": {
        "id": "af447ec4"
      },
      "source": [
        "Notice that the `print` function puts a space between the values."
      ]
    },
    {
      "cell_type": "markdown",
      "id": "7c73a2fa",
      "metadata": {
        "id": "7c73a2fa"
      },
      "source": [
        "## Arguments\n",
        "\n",
        "When you call a function, the expression in parenthesis is called an **argument**.\n",
        "Normally I would explain why, but in this case the technical meaning of a term has almost nothing to do with the common meaning of the word, so I won't even try.\n",
        "\n",
        "Some of the functions we've seen so far take only one argument, like `int`."
      ]
    },
    {
      "cell_type": "code",
      "execution_count": 76,
      "id": "060c60cf",
      "metadata": {
        "id": "060c60cf",
        "outputId": "3d3313e9-41eb-4196-af72-5defb7720fbc",
        "colab": {
          "base_uri": "https://localhost:8080/"
        }
      },
      "outputs": [
        {
          "output_type": "execute_result",
          "data": {
            "text/plain": [
              "101"
            ]
          },
          "metadata": {},
          "execution_count": 76
        }
      ],
      "source": [
        "int('101')"
      ]
    },
    {
      "cell_type": "markdown",
      "id": "c4ad4f2c",
      "metadata": {
        "id": "c4ad4f2c"
      },
      "source": [
        "Some take two, like `math.pow`."
      ]
    },
    {
      "cell_type": "code",
      "execution_count": 77,
      "id": "2875d9e0",
      "metadata": {
        "id": "2875d9e0",
        "outputId": "27646b9d-da7b-40ba-d5de-aa0c90a3674d",
        "colab": {
          "base_uri": "https://localhost:8080/"
        }
      },
      "outputs": [
        {
          "output_type": "execute_result",
          "data": {
            "text/plain": [
              "25.0"
            ]
          },
          "metadata": {},
          "execution_count": 77
        }
      ],
      "source": [
        "math.pow(5, 2)"
      ]
    },
    {
      "cell_type": "markdown",
      "id": "17293749",
      "metadata": {
        "id": "17293749"
      },
      "source": [
        "Some can take additional arguments that are optional.\n",
        "For example, `int` can take a second argument that specifies the base of the number."
      ]
    },
    {
      "cell_type": "code",
      "execution_count": 78,
      "id": "43b9cf38",
      "metadata": {
        "id": "43b9cf38",
        "outputId": "17e31ced-a0ad-4c00-d6f2-527f656b5e62",
        "colab": {
          "base_uri": "https://localhost:8080/"
        }
      },
      "outputs": [
        {
          "output_type": "execute_result",
          "data": {
            "text/plain": [
              "5"
            ]
          },
          "metadata": {},
          "execution_count": 78
        }
      ],
      "source": [
        "int('101', 2)"
      ]
    },
    {
      "cell_type": "markdown",
      "id": "c95589a1",
      "metadata": {
        "id": "c95589a1"
      },
      "source": [
        "The sequence of digits `101` in base 2 represents the number 5 in base 10.\n",
        "\n",
        "`round` also takes an optional second argument, which is the number of decimal places to round off to."
      ]
    },
    {
      "cell_type": "code",
      "execution_count": 79,
      "id": "e8a21d05",
      "metadata": {
        "id": "e8a21d05",
        "outputId": "4e92c5e5-f253-450c-c8bc-3daa579b43ce",
        "colab": {
          "base_uri": "https://localhost:8080/"
        }
      },
      "outputs": [
        {
          "output_type": "execute_result",
          "data": {
            "text/plain": [
              "3.142"
            ]
          },
          "metadata": {},
          "execution_count": 79
        }
      ],
      "source": [
        "round(math.pi, 3)"
      ]
    },
    {
      "cell_type": "markdown",
      "id": "21e4a448",
      "metadata": {
        "id": "21e4a448"
      },
      "source": [
        "Some functions can take any number of arguments, like `print`."
      ]
    },
    {
      "cell_type": "code",
      "execution_count": 80,
      "id": "724128f4",
      "metadata": {
        "id": "724128f4",
        "outputId": "fa1152c7-8312-4757-a591-032cc1112794",
        "colab": {
          "base_uri": "https://localhost:8080/"
        }
      },
      "outputs": [
        {
          "output_type": "stream",
          "name": "stdout",
          "text": [
            "Any number of arguments\n"
          ]
        }
      ],
      "source": [
        "print('Any', 'number', 'of', 'arguments')"
      ]
    },
    {
      "cell_type": "markdown",
      "id": "667cff14",
      "metadata": {
        "id": "667cff14"
      },
      "source": [
        "If you call a function and provide too many arguments, that's a `TypeError`."
      ]
    },
    {
      "cell_type": "code",
      "execution_count": 81,
      "id": "69295e52",
      "metadata": {
        "tags": [],
        "id": "69295e52",
        "outputId": "1ba928ac-96a5-448c-e7e2-fd36924d8ec3",
        "colab": {
          "base_uri": "https://localhost:8080/",
          "height": 162
        }
      },
      "outputs": [
        {
          "output_type": "error",
          "ename": "TypeError",
          "evalue": "float expected at most 1 argument, got 2",
          "traceback": [
            "\u001b[0;31m---------------------------------------------------------------------------\u001b[0m",
            "\u001b[0;31mTypeError\u001b[0m                                 Traceback (most recent call last)",
            "\u001b[0;32m/tmp/ipython-input-4169466654.py\u001b[0m in \u001b[0;36m<cell line: 0>\u001b[0;34m()\u001b[0m\n\u001b[0;32m----> 1\u001b[0;31m \u001b[0mfloat\u001b[0m\u001b[0;34m(\u001b[0m\u001b[0;34m'123.0'\u001b[0m\u001b[0;34m,\u001b[0m \u001b[0;36m2\u001b[0m\u001b[0;34m)\u001b[0m\u001b[0;34m\u001b[0m\u001b[0;34m\u001b[0m\u001b[0m\n\u001b[0m        \u001b[0;36mglobal\u001b[0m \u001b[0;36mfloat\u001b[0m \u001b[0;34m= \u001b[0;36mundefined\u001b[0m\u001b[0m\n",
            "\u001b[0;31mTypeError\u001b[0m: float expected at most 1 argument, got 2"
          ]
        }
      ],
      "source": [
        "%%expect TypeError\n",
        "\n",
        "float('123.0', 2)"
      ]
    },
    {
      "cell_type": "markdown",
      "id": "5103368e",
      "metadata": {
        "id": "5103368e"
      },
      "source": [
        "If you provide too few arguments, that's also a `TypeError`."
      ]
    },
    {
      "cell_type": "code",
      "execution_count": 82,
      "id": "edec7064",
      "metadata": {
        "tags": [],
        "id": "edec7064",
        "outputId": "e0290ce6-2157-4e87-c7c1-64c1778f9fc9",
        "colab": {
          "base_uri": "https://localhost:8080/",
          "height": 162
        }
      },
      "outputs": [
        {
          "output_type": "error",
          "ename": "TypeError",
          "evalue": "pow expected 2 arguments, got 1",
          "traceback": [
            "\u001b[0;31m---------------------------------------------------------------------------\u001b[0m",
            "\u001b[0;31mTypeError\u001b[0m                                 Traceback (most recent call last)",
            "\u001b[0;32m/tmp/ipython-input-2769799684.py\u001b[0m in \u001b[0;36m<cell line: 0>\u001b[0;34m()\u001b[0m\n\u001b[0;32m----> 1\u001b[0;31m \u001b[0mmath\u001b[0m\u001b[0;34m.\u001b[0m\u001b[0mpow\u001b[0m\u001b[0;34m(\u001b[0m\u001b[0;36m2\u001b[0m\u001b[0;34m)\u001b[0m\u001b[0;34m\u001b[0m\u001b[0;34m\u001b[0m\u001b[0m\n\u001b[0m        \u001b[0;36mglobal\u001b[0m \u001b[0;36mmath.pow\u001b[0m \u001b[0;34m= <built-in function pow>\u001b[0m\n",
            "\u001b[0;31mTypeError\u001b[0m: pow expected 2 arguments, got 1"
          ]
        }
      ],
      "source": [
        "%%expect TypeError\n",
        "\n",
        "math.pow(2)"
      ]
    },
    {
      "cell_type": "markdown",
      "id": "5333c416",
      "metadata": {
        "id": "5333c416"
      },
      "source": [
        "And if you provide an argument with a type the function can't handle, that's a `TypeError`, too."
      ]
    },
    {
      "cell_type": "code",
      "execution_count": 83,
      "id": "f86b2896",
      "metadata": {
        "tags": [],
        "id": "f86b2896",
        "outputId": "7d4eb9a7-5d89-423d-8b36-a9f7b6b39ece",
        "colab": {
          "base_uri": "https://localhost:8080/",
          "height": 162
        }
      },
      "outputs": [
        {
          "output_type": "error",
          "ename": "TypeError",
          "evalue": "must be real number, not str",
          "traceback": [
            "\u001b[0;31m---------------------------------------------------------------------------\u001b[0m",
            "\u001b[0;31mTypeError\u001b[0m                                 Traceback (most recent call last)",
            "\u001b[0;32m/tmp/ipython-input-191995464.py\u001b[0m in \u001b[0;36m<cell line: 0>\u001b[0;34m()\u001b[0m\n\u001b[0;32m----> 1\u001b[0;31m \u001b[0mmath\u001b[0m\u001b[0;34m.\u001b[0m\u001b[0msqrt\u001b[0m\u001b[0;34m(\u001b[0m\u001b[0;34m'123'\u001b[0m\u001b[0;34m)\u001b[0m\u001b[0;34m\u001b[0m\u001b[0;34m\u001b[0m\u001b[0m\n\u001b[0m        \u001b[0;36mglobal\u001b[0m \u001b[0;36mmath.sqrt\u001b[0m \u001b[0;34m= <built-in function sqrt>\u001b[0m\n",
            "\u001b[0;31mTypeError\u001b[0m: must be real number, not str"
          ]
        }
      ],
      "source": [
        "%%expect TypeError\n",
        "\n",
        "math.sqrt('123')"
      ]
    },
    {
      "cell_type": "markdown",
      "id": "548828af",
      "metadata": {
        "id": "548828af"
      },
      "source": [
        "This kind of checking can be annoying when you are getting started, but it helps you detect and correct errors."
      ]
    },
    {
      "cell_type": "markdown",
      "id": "be2b6a9b",
      "metadata": {
        "id": "be2b6a9b"
      },
      "source": [
        "## Comments\n",
        "\n",
        "As programs get bigger and more complicated, they get more difficult to read.\n",
        "Formal languages are dense, and it is often difficult to look at a piece of code and figure out what it is doing and why.\n",
        "\n",
        "For this reason, it is a good idea to add notes to your programs to explain in natural language what the program is doing.\n",
        "These notes are called **comments**, and they start with the `#` symbol."
      ]
    },
    {
      "cell_type": "code",
      "execution_count": 84,
      "id": "607893a6",
      "metadata": {
        "id": "607893a6"
      },
      "outputs": [],
      "source": [
        "# number of seconds in 42:42\n",
        "seconds = 42 * 60 + 42"
      ]
    },
    {
      "cell_type": "markdown",
      "id": "519c83a9",
      "metadata": {
        "id": "519c83a9"
      },
      "source": [
        "In this case, the comment appears on a line by itself. You can also put\n",
        "comments at the end of a line:"
      ]
    },
    {
      "cell_type": "code",
      "execution_count": 85,
      "id": "615a11e7",
      "metadata": {
        "id": "615a11e7"
      },
      "outputs": [],
      "source": [
        "miles = 10 / 1.61     # 10 kilometers in miles"
      ]
    },
    {
      "cell_type": "markdown",
      "id": "87c8d10c",
      "metadata": {
        "id": "87c8d10c"
      },
      "source": [
        "Everything from the `#` to the end of the line is ignored---it has no\n",
        "effect on the execution of the program.\n",
        "\n",
        "Comments are most useful when they document non-obvious features of the code.\n",
        "It is reasonable to assume that the reader can figure out *what* the code does; it is more useful to explain *why*.\n",
        "\n",
        "This comment is redundant with the code and useless:"
      ]
    },
    {
      "cell_type": "code",
      "execution_count": 86,
      "id": "cc7fe2e6",
      "metadata": {
        "id": "cc7fe2e6"
      },
      "outputs": [],
      "source": [
        "v = 8     # assign 8 to v"
      ]
    },
    {
      "cell_type": "markdown",
      "id": "eb83b14a",
      "metadata": {
        "id": "eb83b14a"
      },
      "source": [
        "This comment contains useful information that is not in the code:"
      ]
    },
    {
      "cell_type": "code",
      "execution_count": 87,
      "id": "7c93a00d",
      "metadata": {
        "id": "7c93a00d"
      },
      "outputs": [],
      "source": [
        "v = 8     # velocity in miles per hour"
      ]
    },
    {
      "cell_type": "markdown",
      "id": "6cd60d4f",
      "metadata": {
        "id": "6cd60d4f"
      },
      "source": [
        "Good variable names can reduce the need for comments, but long names can\n",
        "make complex expressions hard to read, so there is a tradeoff."
      ]
    },
    {
      "cell_type": "markdown",
      "id": "7d61e416",
      "metadata": {
        "id": "7d61e416"
      },
      "source": [
        "## Debugging\n",
        "\n",
        "Three kinds of errors can occur in a program: syntax errors, runtime errors, and semantic errors.\n",
        "It is useful to distinguish between them in order to track them down more quickly.\n",
        "\n",
        "* **Syntax error**: \"Syntax\" refers to the structure of a program and the rules about that structure. If there is a syntax error anywhere in your program, Python does not run the program. It displays an error message immediately.\n",
        "\n",
        "* **Runtime error**: If there are no syntax errors in your program, it can start running. But if something goes wrong, Python displays an error message and stops. This type of error is called a runtime error. It is also called an **exception** because it indicates that something exceptional has happened.\n",
        "\n",
        "* **Semantic error**: The third type of error is \"semantic\", which means related to meaning. If there is a semantic error in your program, it runs without generating error messages, but it does not do what you intended. Identifying semantic errors can be tricky because it requires you to work backward by looking at the output of the program and trying to figure out what it is doing."
      ]
    },
    {
      "cell_type": "markdown",
      "id": "6cd52721",
      "metadata": {
        "id": "6cd52721"
      },
      "source": [
        "As we've seen, an illegal variable name is a syntax error."
      ]
    },
    {
      "cell_type": "code",
      "execution_count": 88,
      "id": "86f07f6e",
      "metadata": {
        "tags": [],
        "id": "86f07f6e",
        "outputId": "70fb0acc-a68b-4a96-8c31-1c36880ae12c",
        "colab": {
          "base_uri": "https://localhost:8080/",
          "height": 108
        }
      },
      "outputs": [
        {
          "output_type": "error",
          "ename": "SyntaxError",
          "evalue": "invalid syntax (ipython-input-4061783710.py, line 1)",
          "traceback": [
            "\u001b[0;36m  File \u001b[0;32m\"/tmp/ipython-input-4061783710.py\"\u001b[0;36m, line \u001b[0;32m1\u001b[0m\n\u001b[0;31m    million! = 1000000\u001b[0m\n\u001b[0m           ^\u001b[0m\n\u001b[0;31mSyntaxError\u001b[0m\u001b[0;31m:\u001b[0m invalid syntax\n"
          ]
        }
      ],
      "source": [
        "%%expect SyntaxError\n",
        "\n",
        "million! = 1000000"
      ]
    },
    {
      "cell_type": "markdown",
      "id": "b8971d33",
      "metadata": {
        "id": "b8971d33"
      },
      "source": [
        "If you use an operator with a type it doesn't support, that's a runtime error."
      ]
    },
    {
      "cell_type": "code",
      "execution_count": 89,
      "id": "682395ea",
      "metadata": {
        "tags": [],
        "id": "682395ea",
        "outputId": "2439ce68-1d70-4c73-a570-2ad8159df754",
        "colab": {
          "base_uri": "https://localhost:8080/",
          "height": 144
        }
      },
      "outputs": [
        {
          "output_type": "error",
          "ename": "TypeError",
          "evalue": "unsupported operand type(s) for /: 'str' and 'int'",
          "traceback": [
            "\u001b[0;31m---------------------------------------------------------------------------\u001b[0m",
            "\u001b[0;31mTypeError\u001b[0m                                 Traceback (most recent call last)",
            "\u001b[0;32m/tmp/ipython-input-1589730704.py\u001b[0m in \u001b[0;36m<cell line: 0>\u001b[0;34m()\u001b[0m\n\u001b[0;32m----> 1\u001b[0;31m \u001b[0;34m'126'\u001b[0m \u001b[0;34m/\u001b[0m \u001b[0;36m3\u001b[0m\u001b[0;34m\u001b[0m\u001b[0;34m\u001b[0m\u001b[0m\n\u001b[0m",
            "\u001b[0;31mTypeError\u001b[0m: unsupported operand type(s) for /: 'str' and 'int'"
          ]
        }
      ],
      "source": [
        "%%expect TypeError\n",
        "\n",
        "'126' / 3"
      ]
    },
    {
      "cell_type": "markdown",
      "id": "e51fa6e2",
      "metadata": {
        "id": "e51fa6e2"
      },
      "source": [
        "Finally, here's an example of a semantic error.\n",
        "Suppose we want to compute the average of `1` and `3`, but we forget about the order of operations and write this:"
      ]
    },
    {
      "cell_type": "code",
      "execution_count": 90,
      "id": "2ff25bda",
      "metadata": {
        "id": "2ff25bda",
        "outputId": "75e8bfb3-54e7-4a90-c786-f44270ec2bb9",
        "colab": {
          "base_uri": "https://localhost:8080/"
        }
      },
      "outputs": [
        {
          "output_type": "execute_result",
          "data": {
            "text/plain": [
              "2.5"
            ]
          },
          "metadata": {},
          "execution_count": 90
        }
      ],
      "source": [
        "1 + 3 / 2"
      ]
    },
    {
      "cell_type": "markdown",
      "id": "0828afc0",
      "metadata": {
        "id": "0828afc0"
      },
      "source": [
        "When this expression is evaluated, it does not produce an error message, so there is no syntax error or runtime error.\n",
        "But the result is not the average of `1` and `3`, so the program is not correct.\n",
        "This is a semantic error because the program runs but it doesn't do what's intended."
      ]
    },
    {
      "cell_type": "markdown",
      "id": "07396f3d",
      "metadata": {
        "id": "07396f3d"
      },
      "source": [
        "## Glossary\n",
        "\n",
        "**variable:**\n",
        "A name that refers to a value.\n",
        "\n",
        "**assignment statement:**\n",
        "A statement that assigns a value to a variable.\n",
        "\n",
        "**state diagram:**\n",
        "A graphical representation of a set of variables and the values they refer to.\n",
        "\n",
        "**keyword:**\n",
        "A special word used to specify the structure of a program.\n",
        "\n",
        "**import statement:**\n",
        "A statement that reads a module file so we can use the variables and functions it contains.\n",
        "\n",
        "**module:**\n",
        "A file that contains Python code, including function definitions and sometimes other statements.\n",
        "\n",
        "**dot operator:**\n",
        "The operator, `.`, used to access a function in another module by specifying the module name followed by a dot and the function name.\n",
        "\n",
        "**evaluate:**\n",
        "Perform the operations in an expression in order to compute a value.\n",
        "\n",
        "**statement:**\n",
        "One or more lines of code that represent a command or action.\n",
        "\n",
        "**execute:**\n",
        "Run a statement and do what it says.\n",
        "\n",
        "**argument:**\n",
        "A value provided to a function when the function is called.\n",
        "\n",
        "**comment:**\n",
        "Text included in a program that provides information about the program but has no effect on its execution.\n",
        "\n",
        "**runtime error:**\n",
        "An error that causes a program to display an error message and exit.\n",
        "\n",
        "**exception:**\n",
        "An error that is detected while the program is running.\n",
        "\n",
        "**semantic error:**\n",
        "An error that causes a program to do the wrong thing, but not to display an error message."
      ]
    },
    {
      "cell_type": "markdown",
      "id": "70ee273d",
      "metadata": {
        "id": "70ee273d"
      },
      "source": [
        "## Exercises"
      ]
    },
    {
      "cell_type": "code",
      "execution_count": 91,
      "id": "c9e6cab4",
      "metadata": {
        "tags": [],
        "id": "c9e6cab4",
        "outputId": "af0b76f8-895b-40d5-c31a-daee688c041f",
        "colab": {
          "base_uri": "https://localhost:8080/"
        }
      },
      "outputs": [
        {
          "output_type": "stream",
          "name": "stdout",
          "text": [
            "Exception reporting mode: Verbose\n"
          ]
        }
      ],
      "source": [
        "# This cell tells Jupyter to provide detailed debugging information\n",
        "# when a runtime error occurs. Run it before working on the exercises.\n",
        "\n",
        "%xmode Verbose"
      ]
    },
    {
      "cell_type": "markdown",
      "id": "7256a9b2",
      "metadata": {
        "id": "7256a9b2"
      },
      "source": [
        "### Ask a virtual assistant\n",
        "\n",
        "Again, I encourage you to use a virtual assistant to learn more about any of the topics in this chapter.\n",
        "\n",
        "If you are curious about any of keywords I listed, you could ask \"Why is class a keyword?\" or \"Why can't variable names be keywords?\"\n",
        "\n",
        "You might have noticed that `int`, `float`, and `str` are not Python keywords.\n",
        "They are variables that represent types, and they can be used as functions.\n",
        "So it is *legal* to have a variable or function with one of those names, but it is strongly discouraged. Ask an assistant \"Why is it bad to use int, float, and str as variable names?\"\n",
        "\n",
        "Also ask, \"What are the built-in functions in Python?\"\n",
        "If you are curious about any of them, ask for more information.\n",
        "\n",
        "In this chapter we imported the `math` module and used some of the variable and functions it provides. Ask an assistant, \"What variables and functions are in the math module?\" and \"Other than math, what modules are considered core Python?\""
      ]
    },
    {
      "cell_type": "markdown",
      "id": "f92afde0",
      "metadata": {
        "id": "f92afde0"
      },
      "source": [
        "### Exercise\n",
        "\n",
        "Repeating my advice from the previous chapter, whenever you learn a new feature, you should make errors on purpose to see what goes wrong.\n",
        "\n",
        "-   We've seen that `n = 17` is legal. What about `17 = n`?\n",
        "\n",
        "-   How about `x = y = 1`?\n",
        "\n",
        "-   In some languages every statement ends with a semi-colon (`;`). What\n",
        "    happens if you put a semi-colon at the end of a Python statement?\n",
        "\n",
        "-   What if you put a period at the end of a statement?\n",
        "\n",
        "-   What happens if you spell the name of a module wrong and try to import `maath`?"
      ]
    },
    {
      "cell_type": "markdown",
      "id": "9d562609",
      "metadata": {
        "id": "9d562609"
      },
      "source": [
        "### Exercise\n",
        "Practice using the Python interpreter as a calculator:\n",
        "\n",
        "**Part 1.**  The volume of a sphere with radius $r$ is $\\frac{4}{3} \\pi r^3$.\n",
        "What is the volume of a sphere with radius 5? Start with a variable named `radius` and then assign the result to a variable named `volume`. Display the result. Add comments to indicate that `radius` is in centimeters and `volume` in cubic centimeters."
      ]
    },
    {
      "cell_type": "code",
      "execution_count": 92,
      "id": "18de7d96",
      "metadata": {
        "id": "18de7d96"
      },
      "outputs": [],
      "source": [
        "# Solution goes here"
      ]
    },
    {
      "cell_type": "markdown",
      "id": "6449b12b",
      "metadata": {
        "id": "6449b12b"
      },
      "source": [
        "**Part 2.** A rule of trigonometry says that for any value of $x$, $(\\cos x)^2 + (\\sin x)^2 = 1$. Let's see if it's true for a specific value of $x$ like 42.\n",
        "\n",
        "Create a variable named `x` with this value.\n",
        "Then use `math.cos` and `math.sin` to compute the sine and cosine of $x$, and the sum of their squared.\n",
        "\n",
        "The result should be close to 1. It might not be exactly 1 because floating-point arithmetic is not exact---it is only approximately correct."
      ]
    },
    {
      "cell_type": "code",
      "execution_count": 93,
      "id": "de812cff",
      "metadata": {
        "id": "de812cff"
      },
      "outputs": [],
      "source": [
        "# Solution goes here"
      ]
    },
    {
      "cell_type": "markdown",
      "id": "4986801f",
      "metadata": {
        "id": "4986801f"
      },
      "source": [
        "**Part 3.** In addition to `pi`, the other variable defined in the `math` module is `e`, which represents the base of the natural logarithm, written in math notation as $e$. If you are not familiar with this value, ask a virtual assistant \"What is `math.e`?\" Now let's compute $e^2$ three ways:\n",
        "\n",
        "* Use `math.e` and the exponentiation operator (`**`).\n",
        "\n",
        "* Use `math.pow` to raise `math.e` to the power `2`.\n",
        "\n",
        "* Use `math.exp`, which takes as an argument a value, $x$, and computes $e^x$.\n",
        "\n",
        "You might notice that the last result is slightly different from the other two.\n",
        "See if you can find out which is correct."
      ]
    },
    {
      "cell_type": "code",
      "execution_count": 94,
      "id": "b4ada618",
      "metadata": {
        "id": "b4ada618"
      },
      "outputs": [],
      "source": [
        "# Solution goes here"
      ]
    },
    {
      "cell_type": "code",
      "execution_count": 95,
      "id": "4424940f",
      "metadata": {
        "id": "4424940f"
      },
      "outputs": [],
      "source": [
        "# Solution goes here"
      ]
    },
    {
      "cell_type": "code",
      "execution_count": 96,
      "id": "50e8393a",
      "metadata": {
        "id": "50e8393a"
      },
      "outputs": [],
      "source": [
        "# Solution goes here"
      ]
    },
    {
      "cell_type": "code",
      "execution_count": 96,
      "id": "91e5a869",
      "metadata": {
        "id": "91e5a869"
      },
      "outputs": [],
      "source": []
    },
    {
      "cell_type": "markdown",
      "id": "a7f4edf8",
      "metadata": {
        "tags": [],
        "id": "a7f4edf8"
      },
      "source": [
        "[Think Python: 3rd Edition](https://allendowney.github.io/ThinkPython/index.html)\n",
        "\n",
        "Copyright 2024 [Allen B. Downey](https://allendowney.com)\n",
        "\n",
        "Code license: [MIT License](https://mit-license.org/)\n",
        "\n",
        "Text license: [Creative Commons Attribution-NonCommercial-ShareAlike 4.0 International](https://creativecommons.org/licenses/by-nc-sa/4.0/)"
      ]
    }
  ],
  "metadata": {
    "celltoolbar": "Tags",
    "kernelspec": {
      "display_name": "Python 3 (ipykernel)",
      "language": "python",
      "name": "python3"
    },
    "language_info": {
      "codemirror_mode": {
        "name": "ipython",
        "version": 3
      },
      "file_extension": ".py",
      "mimetype": "text/x-python",
      "name": "python",
      "nbconvert_exporter": "python",
      "pygments_lexer": "ipython3",
      "version": "3.10.11"
    },
    "vscode": {
      "interpreter": {
        "hash": "357b915890fbc73e00b3ee3cc7035b34e6189554c2854644fe780ff20c2fdfc0"
      }
    },
    "colab": {
      "provenance": []
    }
  },
  "nbformat": 4,
  "nbformat_minor": 5
}